{
 "cells": [
  {
   "cell_type": "code",
   "execution_count": 1,
   "id": "e2e5bd60-6a7d-4968-a88e-46e52bcef0c4",
   "metadata": {},
   "outputs": [
    {
     "data": {
      "text/plain": [
       "'sllikswp'"
      ]
     },
     "execution_count": 1,
     "metadata": {},
     "output_type": "execute_result"
    }
   ],
   "source": [
    "# 1.write a code to reverse a string\n",
    "s = \"pwskills\"\n",
    "s[::-1]"
   ]
  },
  {
   "cell_type": "code",
   "execution_count": 10,
   "id": "91cd0032-0784-4817-8126-349df3299a93",
   "metadata": {},
   "outputs": [
    {
     "name": "stdout",
     "output_type": "stream",
     "text": [
      "1\n"
     ]
    }
   ],
   "source": [
    "# 2.write a code to count a number of vowels in a string\n",
    "S = \"pwskills\"\n",
    "vowels = \"aeiouAEIOU\"\n",
    "count = 0\n",
    "\n",
    "for char in S:\n",
    "    if char in vowels:\n",
    "        count = count+1\n",
    "print(count)        \n",
    "   "
   ]
  },
  {
   "cell_type": "code",
   "execution_count": 5,
   "id": "f0570c10-7ce5-480e-bcb6-0b2ccde199ea",
   "metadata": {},
   "outputs": [
    {
     "name": "stdout",
     "output_type": "stream",
     "text": [
      "string is palindrome\n"
     ]
    }
   ],
   "source": [
    "# 3.write a code to chek that a string is palindrome or not \n",
    "S = \"LEVEL\"\n",
    "S[::-1]\n",
    "if S[::-1] == S:\n",
    "    print(\"string is palindrome\")\n",
    "else:\n",
    "    print(\"string is not palindrome\")"
   ]
  },
  {
   "cell_type": "code",
   "execution_count": 28,
   "id": "e7423605-8650-4c30-b2a8-c1d3bab4a9a3",
   "metadata": {},
   "outputs": [
    {
     "name": "stdout",
     "output_type": "stream",
     "text": [
      "string are anagrams\n"
     ]
    }
   ],
   "source": [
    "# 4. write a code to check if two given strings are anagrams of each other\n",
    "string1 = \"listen\"\n",
    "string2 = \"silent\"\n",
    "\n",
    "#remove the space and convert in to lower\n",
    "string1 = string1.replace(\" \", \"\").lower()\n",
    "string2 = string2.replace(\" \", \"\").lower()\n",
    "if len(string1) != len(string2):\n",
    "    print(\"string are not anagrams\")\n",
    "else:\n",
    "    #sort the string\n",
    "    sorted_str1 = sorted(string1)\n",
    "    sorted_str2 = sorted(string2)\n",
    "    \n",
    "    #now compare strings\n",
    "    if sorted_str1 == sorted_str2:\n",
    "        print(\"string are anagrams\")\n",
    "    "
   ]
  },
  {
   "cell_type": "code",
   "execution_count": 30,
   "id": "fcb3d6fa-1437-46ac-a225-f826f44406bb",
   "metadata": {},
   "outputs": [
    {
     "name": "stdout",
     "output_type": "stream",
     "text": [
      "Occurrences of 'hello' in 'hello, hello, world, hello!' found at indices:\n",
      "[0, 7, 21]\n"
     ]
    }
   ],
   "source": [
    "# 5.write a code to find all occurences of a given substring within another string\n",
    "main_string = \"hello, hello, world, hello!\"\n",
    "sub_string = \"hello\"\n",
    "\n",
    "# Initialize an empty list to store indices of occurrences\n",
    "occurrences = []\n",
    "\n",
    "# Start index for searching\n",
    "start_index = 0\n",
    "\n",
    "# Search for occurrences until no more are found\n",
    "while start_index < len(main_string):\n",
    "    # Find the next occurrence of the substring\n",
    "    index = main_string.find(sub_string, start_index)\n",
    "    \n",
    "    # If no occurrence is found, break the loop\n",
    "    if index == -1:\n",
    "        break\n",
    "    \n",
    "    # Append the index of the occurrence to the list\n",
    "    occurrences.append(index)\n",
    "    \n",
    "    # Move the start index to continue searching from the next position\n",
    "    start_index = index + 1\n",
    "\n",
    "# Print the list of occurrences\n",
    "print(\"Occurrences of '%s' in '%s' found at indices:\" % (sub_string, main_string))\n",
    "print(occurrences)\n"
   ]
  },
  {
   "cell_type": "code",
   "execution_count": 1,
   "id": "64ea80cd-c026-48bb-9798-52c3fb95b0ab",
   "metadata": {},
   "outputs": [
    {
     "name": "stdout",
     "output_type": "stream",
     "text": [
      "Compressed string: a3b3c3d3e3\n"
     ]
    }
   ],
   "source": [
    "# 6 . write a code to perform basic string compression using the counts of repeated characters\n",
    "input_string = \"aaabbbcccdddeee\"\n",
    "\n",
    "# Initialize an empty string to store the compressed string\n",
    "compressed_string = \"\"\n",
    "\n",
    "# Initialize variables to track the current character and its count\n",
    "current_char = input_string[0]\n",
    "char_count = 1\n",
    "\n",
    "# Iterate through the input string starting from the second character\n",
    "for char in input_string[1:]:\n",
    "    # If the current character is the same as the previous one, increment the count\n",
    "    if char == current_char:\n",
    "        char_count += 1\n",
    "    else:\n",
    "        # If the current character is different, append the previous character and its count to the compressed string\n",
    "        compressed_string += current_char + str(char_count)\n",
    "        # Reset the current character and its count for the new character\n",
    "        current_char = char\n",
    "        char_count = 1\n",
    "\n",
    "# Append the last character and its count to the compressed string\n",
    "compressed_string += current_char + str(char_count)\n",
    "\n",
    "# If the compressed string is not shorter than the original string, keep the original string\n",
    "if len(compressed_string) >= len(input_string):\n",
    "    compressed_string = input_string\n",
    "\n",
    "print(\"Compressed string:\", compressed_string)\n",
    "\n"
   ]
  },
  {
   "cell_type": "code",
   "execution_count": 24,
   "id": "44cb6db4-6e87-4527-8d81-9df546ef7a88",
   "metadata": {},
   "outputs": [
    {
     "name": "stdout",
     "output_type": "stream",
     "text": [
      "The string 'abcdefg' has all unique characters.\n"
     ]
    }
   ],
   "source": [
    "# 7 . write a code to determine if a string has all unique characters\n",
    "input_string = \"abcdefg\"\n",
    "\n",
    "# Initialize an empty set to store unique characters encountered\n",
    "unique_chars = set()\n",
    "\n",
    "# Iterate through each character in the input string\n",
    "for char in input_string:\n",
    "    # Check if the character is already in the set\n",
    "    if char in unique_chars:\n",
    "        print(\"The string '%s' does not have all unique characters.\" % input_string)\n",
    "        break\n",
    "    # Add the character to the set\n",
    "    else:\n",
    "        unique_chars.add(char)\n",
    "else:\n",
    "    # If the loop completes without finding any duplicates, the string has all unique characters\n",
    "    print(\"The string '%s' has all unique characters.\" % input_string)\n",
    "\n",
    "\n",
    "    \n",
    "        \n",
    "\n",
    "        "
   ]
  },
  {
   "cell_type": "code",
   "execution_count": 29,
   "id": "8e0f20d0-eedd-468c-8d80-2de5621b7965",
   "metadata": {},
   "outputs": [
    {
     "data": {
      "text/plain": [
       "'pwskills'"
      ]
     },
     "execution_count": 29,
     "metadata": {},
     "output_type": "execute_result"
    }
   ],
   "source": [
    "# 8 write a code to convert a given string to uppercase or lowercase\n",
    "String1 = \"pwskills\"\n",
    "String1.upper()\n",
    "\n",
    "String2 = \"PWSKILLS\"\n",
    "String2.lower()"
   ]
  },
  {
   "cell_type": "code",
   "execution_count": 55,
   "id": "f82707dd-949f-4249-a60f-a40fd7cd64ce",
   "metadata": {},
   "outputs": [
    {
     "name": "stdout",
     "output_type": "stream",
     "text": [
      "6\n"
     ]
    }
   ],
   "source": [
    "# 9.write a code to count the number of words in a string\n",
    "\n",
    "str = \"i am a student of pwskills\"\n",
    "str2 = str.split()\n",
    "\n",
    "num_words = len(str2)\n",
    "print(num_words)\n"
   ]
  },
  {
   "cell_type": "code",
   "execution_count": 64,
   "id": "c90c5729-6d75-43d2-9d8f-7f436ee07bee",
   "metadata": {},
   "outputs": [
    {
     "name": "stdout",
     "output_type": "stream",
     "text": [
      "hello Rahul\n"
     ]
    }
   ],
   "source": [
    "#10. write a code to concainate two strings without using the + operator\n",
    "str1 = \"hello\"\n",
    "str2 = \" Rahul\"\n",
    "\n",
    "str3 = str1[:] + str2[:]\n",
    "print(str3)"
   ]
  },
  {
   "cell_type": "code",
   "execution_count": 69,
   "id": "b6cabf24-e0a9-47d3-abbc-4622d9e89191",
   "metadata": {},
   "outputs": [
    {
     "data": {
      "text/plain": [
       "[1, 3, 4, 5, 6, 7]"
      ]
     },
     "execution_count": 69,
     "metadata": {},
     "output_type": "execute_result"
    }
   ],
   "source": [
    "# 11. write a code to remove all occurence of a specification element from a list\n",
    "my_list = [1, 2, 3, 4, 2, 5, 6, 2, 7]\n",
    "occr_remove = 2 \n",
    "result_list = []\n",
    "\n",
    "\n",
    "for items in my_list:\n",
    "    if items!= occr_remove:\n",
    "        result_list.append(items)\n",
    "result_list"
   ]
  },
  {
   "cell_type": "code",
   "execution_count": 8,
   "id": "78bc23d5-78e4-40f0-b3c5-7879bae2a99c",
   "metadata": {},
   "outputs": [
    {
     "name": "stdout",
     "output_type": "stream",
     "text": [
      "highest no is  8\n",
      "smax is  7\n"
     ]
    }
   ],
   "source": [
    "#12 implement a code to fine the second largest number in a given list of integers\n",
    "list = [1,2,3,5,6,7,8]\n",
    "\n",
    "max = list[0]\n",
    "\n",
    "for num in list:\n",
    "    if num > max:\n",
    "        max = num\n",
    " \n",
    "\n",
    "print(\"highest no is \",max)\n",
    "        \n",
    "smax = list[0]\n",
    "\n",
    "for num in list:\n",
    "    if num > smax and num < max:\n",
    "        smax = num\n",
    "        \n",
    "        \n",
    "print(\"smax is \",smax)   \n",
    "        \n",
    "        \n",
    "        \n",
    "    "
   ]
  },
  {
   "cell_type": "code",
   "execution_count": 9,
   "id": "cd02e0ac-2387-4456-9f55-0d001e036bdd",
   "metadata": {},
   "outputs": [
    {
     "name": "stdout",
     "output_type": "stream",
     "text": [
      "Given list: [1, 2, 3, 4, 2, 5, 6, 2, 7]\n",
      "Dictionary with element counts: {1: 1, 2: 3, 3: 1, 4: 1, 5: 1, 6: 1, 7: 1}\n"
     ]
    }
   ],
   "source": [
    "# 13 . create a code to count the occurence of each element in a list and return a dictionary with element as keys and thier counts as values\n",
    "# Given list\n",
    "my_list = [1, 2, 3, 4, 2, 5, 6, 2, 7]\n",
    "\n",
    "# Initialize an empty dictionary to store element counts\n",
    "element_counts = {}\n",
    "\n",
    "# Iterate through each element in the list\n",
    "for item in my_list:\n",
    "    # If the element is already in the dictionary, increment its count\n",
    "    if item in element_counts:\n",
    "        element_counts[item] += 1\n",
    "    # If the element is not in the dictionary, add it with a count of 1\n",
    "    else:\n",
    "        element_counts[item] = 1\n",
    "\n",
    "print(\"Given list:\", my_list)\n",
    "print(\"Dictionary with element counts:\", element_counts)\n"
   ]
  },
  {
   "cell_type": "code",
   "execution_count": 12,
   "id": "22239915-a904-4b49-9367-d30860106d97",
   "metadata": {},
   "outputs": [
    {
     "data": {
      "text/plain": [
       "[5, 4, 3, 2, 1]"
      ]
     },
     "execution_count": 12,
     "metadata": {},
     "output_type": "execute_result"
    }
   ],
   "source": [
    "# 14.write a code to reverse a list in-place without using any built-in reverse function\n",
    "LIST = [1,2,3,4,5]\n",
    "\n",
    "LIST[::-1]\n",
    "   "
   ]
  },
  {
   "cell_type": "code",
   "execution_count": 13,
   "id": "1f6ad276-b8cc-478f-b3b9-034fc90744a7",
   "metadata": {},
   "outputs": [
    {
     "name": "stdout",
     "output_type": "stream",
     "text": [
      "Original list with duplicates: [1, 2, 3, 4, 2, 5, 6, 2, 7, 3, 4]\n",
      "List after removing duplicates: [1, 2, 3, 4, 5, 6, 7]\n"
     ]
    }
   ],
   "source": [
    "#15.implement a code to find and remove duplicates from a list\n",
    "# Given list with duplicates\n",
    "my_list = [1, 2, 3, 4, 2, 5, 6, 2, 7, 3, 4]\n",
    "\n",
    "# Initialize an empty list to store unique elements\n",
    "unique_list = []\n",
    "\n",
    "# Iterate through each element in the given list\n",
    "for item in my_list:\n",
    "    # If the element is not already in the unique list, add it\n",
    "    if item not in unique_list:\n",
    "        unique_list.append(item)\n",
    "\n",
    "print(\"Original list with duplicates:\", my_list)\n",
    "print(\"List after removing duplicates:\", unique_list)\n"
   ]
  },
  {
   "cell_type": "code",
   "execution_count": 20,
   "id": "444e81ad-b308-4641-8fea-aa7d9707ef55",
   "metadata": {},
   "outputs": [
    {
     "data": {
      "text/plain": [
       "[1, 2, 3, 4, 4, 5, 6]"
      ]
     },
     "execution_count": 20,
     "metadata": {},
     "output_type": "execute_result"
    }
   ],
   "source": [
    "#17 write a code to merge two sorted list into a single sorted list\n",
    "l1 = [1,2,3,4]\n",
    "l2 = [4,5,6]\n",
    "l1.extend(l2)\n",
    "l1"
   ]
  },
  {
   "cell_type": "code",
   "execution_count": 21,
   "id": "2443a6fe-cb84-43b4-9890-8892c93a8a8b",
   "metadata": {},
   "outputs": [
    {
     "data": {
      "text/plain": [
       "{1, 3, 4}"
      ]
     },
     "execution_count": 21,
     "metadata": {},
     "output_type": "execute_result"
    }
   ],
   "source": [
    "#18 find the intersection of two given list\n",
    "list1 = [1,2,3,4]\n",
    "l1 = set(list1)\n",
    "list2 = [1,3,4,5]\n",
    "l2 = set(list2)\n",
    "\n",
    "l1 & l2\n"
   ]
  },
  {
   "cell_type": "code",
   "execution_count": 22,
   "id": "972022ef-b61e-44db-93a2-ab1d09a27389",
   "metadata": {},
   "outputs": [
    {
     "data": {
      "text/plain": [
       "{1, 2, 3, 4, 5}"
      ]
     },
     "execution_count": 22,
     "metadata": {},
     "output_type": "execute_result"
    }
   ],
   "source": [
    "#19 .find the union of two given list\n",
    "list1 = [1,2,3,4]\n",
    "l1 = set(list1)\n",
    "list2 = [1,3,4,5]\n",
    "l2 = set(list2)\n",
    "\n",
    "l1 | l2"
   ]
  },
  {
   "cell_type": "code",
   "execution_count": 23,
   "id": "57933ee1-2a77-4d58-a1d3-eec5afa01205",
   "metadata": {},
   "outputs": [
    {
     "data": {
      "text/plain": [
       "{1, 2, 5}"
      ]
     },
     "execution_count": 23,
     "metadata": {},
     "output_type": "execute_result"
    }
   ],
   "source": [
    "#21. write a code that takes two tuple as input and return a new tuple containing element that are common to both input tuple\n",
    "\n",
    "tup1 = (1,2,3,4,5)\n",
    "tup2 = (1,2,5,6,7)\n",
    "t1 = set(tup1)\n",
    "t2 = set(tup2)\n",
    "\n",
    "t1 & t2"
   ]
  },
  {
   "cell_type": "code",
   "execution_count": 24,
   "id": "128bc0d5-57e4-4216-8662-2809965a7d56",
   "metadata": {},
   "outputs": [
    {
     "data": {
      "text/plain": [
       "{1, 2, 3, 4, 5, 6}"
      ]
     },
     "execution_count": 24,
     "metadata": {},
     "output_type": "execute_result"
    }
   ],
   "source": [
    "#22 .write code two find the intersection of two sets\n",
    "\n",
    "set1 = {4,5,6,4,3,2,1}\n",
    "set2 = {6,5,4,3,2,1}\n",
    "\n",
    "set1 & set2"
   ]
  },
  {
   "cell_type": "code",
   "execution_count": 25,
   "id": "0422e3ce-c825-41d3-9573-2827a559123a",
   "metadata": {},
   "outputs": [
    {
     "data": {
      "text/plain": [
       "({1, 2, 3, 4, 5, 6}, {7, 8, 9, 10, 11})"
      ]
     },
     "execution_count": 25,
     "metadata": {},
     "output_type": "execute_result"
    }
   ],
   "source": [
    "#23.write a code to concatenate two tuples \n",
    "tuple1 = {1,2,3,4,5,6}\n",
    "tuple2 = {7,8,9,10,11}\n",
    "tuple3 = (tuple1,tuple2)\n",
    "tuple3"
   ]
  },
  {
   "cell_type": "code",
   "execution_count": 30,
   "id": "cfd053f0-e780-4c33-8faa-403a70961172",
   "metadata": {},
   "outputs": [
    {
     "name": "stdin",
     "output_type": "stream",
     "text": [
      "enter the first set {\"ram\",\"rahu\"}\n",
      "enter the second set {\"ram\"}\n"
     ]
    },
    {
     "ename": "TypeError",
     "evalue": "unsupported operand type(s) for -: 'str' and 'str'",
     "output_type": "error",
     "traceback": [
      "\u001b[0;31m---------------------------------------------------------------------------\u001b[0m",
      "\u001b[0;31mTypeError\u001b[0m                                 Traceback (most recent call last)",
      "Cell \u001b[0;32mIn[30], line 4\u001b[0m\n\u001b[1;32m      2\u001b[0m set1 \u001b[38;5;241m=\u001b[39m \u001b[38;5;28minput\u001b[39m(\u001b[38;5;124m\"\u001b[39m\u001b[38;5;124menter the first set\u001b[39m\u001b[38;5;124m\"\u001b[39m)\n\u001b[1;32m      3\u001b[0m set2 \u001b[38;5;241m=\u001b[39m \u001b[38;5;28minput\u001b[39m(\u001b[38;5;124m\"\u001b[39m\u001b[38;5;124menter the second set\u001b[39m\u001b[38;5;124m\"\u001b[39m)\n\u001b[0;32m----> 4\u001b[0m \u001b[43mset1\u001b[49m\u001b[38;5;241;43m-\u001b[39;49m\u001b[43mset2\u001b[49m\n",
      "\u001b[0;31mTypeError\u001b[0m: unsupported operand type(s) for -: 'str' and 'str'"
     ]
    }
   ],
   "source": [
    "#24. write a code to take input of two string in form of set and find the elemnets which are present in string1 not in second string\n",
    "set1 = input(\"enter the first set\")\n",
    "set2 = input(\"enter the second set\")\n",
    "set1-set2"
   ]
  },
  {
   "cell_type": "code",
   "execution_count": 33,
   "id": "6aea2555-86ed-4be9-81c4-8a91d26969bb",
   "metadata": {},
   "outputs": [
    {
     "name": "stdout",
     "output_type": "stream",
     "text": [
      "{1, 2, 4, 5}\n",
      "{1, 2, 3, 4, 5, 6, 8, 9}\n",
      "{3, 6}\n"
     ]
    }
   ],
   "source": [
    "#28 find union , intersection and fifference of two sets\n",
    "set1 = {1,2,3,4,5,6}\n",
    "set2 = {1,2,4,5,8,9,5,4}\n",
    "print(set1 & set2)\n",
    "print(set1 | set2)\n",
    "print(set1-set2)"
   ]
  },
  {
   "cell_type": "code",
   "execution_count": 40,
   "id": "31a2fd28-2d15-4889-b84e-8996662ef692",
   "metadata": {},
   "outputs": [
    {
     "data": {
      "text/plain": [
       "{'a', 'b', 'c'}"
      ]
     },
     "execution_count": 40,
     "metadata": {},
     "output_type": "execute_result"
    }
   ],
   "source": [
    "#26 take two sets of character and find union\n",
    "input1 = {\"a\",\"b\"}\n",
    "input2 = {\"b\",\"c\"}\n",
    "input1 |input2 "
   ]
  },
  {
   "cell_type": "code",
   "execution_count": 41,
   "id": "23fe849c-5c57-493b-ba73-22d55796f2eb",
   "metadata": {},
   "outputs": [
    {
     "data": {
      "text/plain": [
       "{'rahul', 'rohan', 'rohtash'}"
      ]
     },
     "execution_count": 41,
     "metadata": {},
     "output_type": "execute_result"
    }
   ],
   "source": [
    "#30 write code two sets of string and find difference\n",
    "\n",
    "set1 = {\"ram\",\"rahul\",\"rohan\",\"rohtash\"}\n",
    "set2 = {\"ram\",\"piyush\",\"kanishk\"}\n",
    "set1-set2"
   ]
  },
  {
   "cell_type": "code",
   "execution_count": null,
   "id": "7cc71885-e4e4-4960-b505-67f762f57d92",
   "metadata": {},
   "outputs": [],
   "source": []
  }
 ],
 "metadata": {
  "kernelspec": {
   "display_name": "Python 3 (ipykernel)",
   "language": "python",
   "name": "python3"
  },
  "language_info": {
   "codemirror_mode": {
    "name": "ipython",
    "version": 3
   },
   "file_extension": ".py",
   "mimetype": "text/x-python",
   "name": "python",
   "nbconvert_exporter": "python",
   "pygments_lexer": "ipython3",
   "version": "3.10.8"
  }
 },
 "nbformat": 4,
 "nbformat_minor": 5
}
